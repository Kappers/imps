{
 "cells": [
  {
   "cell_type": "code",
   "execution_count": null,
   "metadata": {},
   "outputs": [],
   "source": [
    "%matplotlib inline\n",
    "from __future__ import absolute_import\n",
    "from __future__ import division\n",
    "from __future__ import print_function\n",
    "import numpy as np\n",
    "import pandas as pd\n",
    "import time\n",
    "import sys\n",
    "import os\n"
   ]
  },
  {
   "cell_type": "code",
   "execution_count": null,
   "metadata": {},
   "outputs": [],
   "source": [
    "dimension = 4"
   ]
  },
  {
   "cell_type": "code",
   "execution_count": null,
   "metadata": {},
   "outputs": [],
   "source": [
    "def transform_log_to_sequence_example(logfile, dimension): \n",
    "    dimension=4\n",
    "    data_names = ['x'+str(i) for i in range(dimension-1)]\n",
    "    column_names = ['date', 'source'] + data_names\n",
    "    perf_df = pd.read_csv('../logs/2019-01-17T12-36-59-4d-mdrnn.log', header=None, parse_dates=True, index_col=0, names=column_names)\n",
    "    perf_df['t'] = perf_df.index\n",
    "    perf_df.t = perf_df.t.diff()\n",
    "    perf_df.t = perf_df.t.dt.total_seconds()\n",
    "    perf_df = perf_df.dropna()\n",
    "    # TODO: filter by interface/rnn source.\n",
    "    return np.array(perf_df[['t']+data_names])\n",
    "\n",
    "\n",
    "# Load up the performances\n",
    "log_location = \"../logs/\"\n",
    "log_file_ending = \"-\" + str(dimension) + \"d-mdrnn.log\"\n",
    "log_arrays = []\n",
    "\n",
    "for local_file in os.listdir(log_location):\n",
    "    if local_file.endswith(log_file_ending):\n",
    "        log = transform_log_to_sequence_example(log_location + local_file, dimension)\n",
    "        log_arrays.append(log)\n",
    "        print(\"Found:\", local_file)"
   ]
  },
  {
   "cell_type": "code",
   "execution_count": null,
   "metadata": {},
   "outputs": [],
   "source": [
    "### Save Performance Data in a compressed numpy file.\n",
    "dataset_location = '../datasets/'\n",
    "dataset_filename = 'training-dataset-'+ str(dimension) + 'd.npz'\n",
    "\n",
    "# Input format is:\n",
    "# 0. 1. 2. ... n.\n",
    "# dt x1 x2 ... xn\n",
    "\n",
    "raw_perfs = []\n",
    "\n",
    "acc = 0\n",
    "for l in log_arrays:\n",
    "    acc += l.shape[0] * l.shape[1]\n",
    "    raw = l.astype('float32') # dt, x_1, ... , x_n\n",
    "    raw_perfs.append(raw)\n",
    "\n",
    "print(\"total number of values:\",acc)\n",
    "print(\"total number of perfs in raw array:\", len(raw_perfs))\n",
    "raw_perfs = np.array(raw_perfs)\n",
    "np.savez_compressed(dataset_location + dataset_filename, perfs=raw_perfs)\n",
    "print(\"done saving:\", dataset_location + dataset_filename)"
   ]
  },
  {
   "cell_type": "code",
   "execution_count": null,
   "metadata": {},
   "outputs": [],
   "source": [
    "# Load tiny performance data from compressed file.\n",
    "dataset_location = '../datasets/'\n",
    "dataset_filename = 'training-dataset-'+ str(dimension) + 'd.npz'\n",
    "\n",
    "with np.load(dataset_location + dataset_filename) as loaded:\n",
    "    perfs = loaded['perfs']\n",
    "\n",
    "print(\"Loaded perfs:\", len(perfs))\n",
    "print(\"Num touches:\", np.sum([len(l) for l in perfs]))"
   ]
  }
 ],
 "metadata": {
  "kernelspec": {
   "display_name": "Python 3",
   "language": "python",
   "name": "python3"
  },
  "language_info": {
   "codemirror_mode": {
    "name": "ipython",
    "version": 3
   },
   "file_extension": ".py",
   "mimetype": "text/x-python",
   "name": "python",
   "nbconvert_exporter": "python",
   "pygments_lexer": "ipython3",
   "version": "3.6.5"
  }
 },
 "nbformat": 4,
 "nbformat_minor": 2
}
